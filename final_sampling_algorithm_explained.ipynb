{
 "cells": [
  {
   "cell_type": "code",
   "execution_count": 1,
   "metadata": {
    "collapsed": true
   },
   "outputs": [],
   "source": [
    "import numpy as np\n",
    "import math\n",
    "import copy\n",
    "import time"
   ]
  },
  {
   "cell_type": "code",
   "execution_count": 2,
   "metadata": {
    "collapsed": false
   },
   "outputs": [],
   "source": [
    "#Open + read file\n",
    "a = open('multidim-data.txt', 'r')\n",
    "sample = a.readlines()\n",
    "sample = [x.strip('\\n') for x in sample] \n",
    "sample = [x.split(',') for x in sample] \n",
    "\n",
    "#Delete all the attributes you don't care about\n",
    "for i, asdf in enumerate(sample):\n",
    "    del(asdf[7])\n",
    "    del(asdf[0:4])\n",
    "    \n",
    "#Turn strings into floats\n",
    "for i in range(len(sample)):\n",
    "    for j in range(len(sample[i])):\n",
    "        sample[i][j] = float(sample[i][j])\n",
    "        \n"
   ]
  },
  {
   "cell_type": "code",
   "execution_count": 3,
   "metadata": {
    "collapsed": false
   },
   "outputs": [],
   "source": [
    "#distance metric, this seems to be one of the best ones for multidimensional analysis although you can change it if you like.\n",
    "def hellinger_dist(sampleDist, PDF):\n",
    "    coefficient = 0\n",
    "    tempDist = copy.deepcopy(sampleDist)\n",
    "    totalSum = np.sum(sampleDist)\n",
    "    for i in indices:\n",
    "        tempDist[i] = tempDist[i] / totalSum\n",
    "    for i in indices:\n",
    "        coefficient += math.sqrt(tempDist[i]*PDF[i])\n",
    "    return math.sqrt(1-coefficient)\n",
    "\n",
    "def euclidean_dist(sampleDist, PDF):\n",
    "    dist = np.zeros([numBins for i in range(m)])\n",
    "    tempDist = copy.deepcopy(sampleDist)\n",
    "    totalSum = np.sum(sampleDist)\n",
    "    for i in indices:\n",
    "        tempDist[i] = tempDist[i]/totalSum\n",
    "    for i in indices:\n",
    "        dist[i] += tempDist[i] - PDF[i]\n",
    "    return dist"
   ]
  },
  {
   "cell_type": "code",
   "execution_count": 4,
   "metadata": {
    "collapsed": false
   },
   "outputs": [],
   "source": [
    "#Recursive helper function to give us all indices so that we can get the values correctly for the multidimensional case.\n",
    "#You should use this to set a global variable before you need to use it so you only need to call this once. If you call this\n",
    "#function many times with many dimensions, it will slow down your code a lot.\n",
    "\n",
    "def nd_range(start, stop, dims):\n",
    "    if not dims:\n",
    "        yield ()\n",
    "        return\n",
    "    for outer in nd_range(start, stop, dims - 1):\n",
    "        for inner in range(start, stop):\n",
    "            yield outer + (inner,)"
   ]
  },
  {
   "cell_type": "code",
   "execution_count": null,
   "metadata": {
    "collapsed": true
   },
   "outputs": [],
   "source": []
  },
  {
   "cell_type": "code",
   "execution_count": 6,
   "metadata": {
    "collapsed": false
   },
   "outputs": [],
   "source": [
    "#This assumes that your sample is currently an array of arrays, each array corresponding to an element and its elements being the\n",
    "#values of the variables as floats.\n",
    "\n",
    "#you have to define this global variable before you can run the rest of it.\n",
    "numBins = 5\n",
    "    \n",
    "    \n",
    "def sample_to_pdf(sample, numObjects): #sample is the sample that we wish to take a subsample from and numobjects is the number\n",
    "#of groupings we wish to create for the main function.\n",
    "    m = len(sample[0])\n",
    "    n = len(sample)\n",
    "    \n",
    "    #Compute extrema for binning\n",
    "    maxValues = np.zeros((m,))\n",
    "    for i in range(m):\n",
    "        maxValues[i] = -float('inf')\n",
    "    for i in sample:\n",
    "        for j in range(len(i)):\n",
    "            if i[j] > maxValues[j]:\n",
    "                maxValues[j] = i[j]\n",
    "    for i in range(m):\n",
    "        maxValues[i] += 0.0001\n",
    "\n",
    "    minValues = np.zeros((m,))\n",
    "    for i in range(m):\n",
    "        minValues[i] = float('inf')\n",
    "    for i in sample:\n",
    "        for j in range(len(i)):\n",
    "            if i[j] < minValues[j]:\n",
    "                minValues[j] = i[j]\n",
    "    \n",
    "    \n",
    "\n",
    "    binSize = (maxValues - minValues) / numBins\n",
    "    #Create the bins and bin the sample so we get our pdfs as well as the overall pdf.\n",
    "    tempList = [numObjects]\n",
    "    tempList.extend([numBins for i in range(m)])\n",
    "    distributions = np.zeros(tempList)\n",
    "    overallPDF = np.zeros([numBins for i in range(m)])\n",
    "    for element in sample:\n",
    "        i = np.random.randint(0,numObjects)\n",
    "        \n",
    "        pos = [0 for i in range(m)]\n",
    "        for j in range(m):\n",
    "            pos[j] = math.floor((element[j]-minValues[j]) / binSize[j])\n",
    "        positions = tuple(pos)\n",
    "        distributions[i][positions]+= 1\n",
    "        overallPDF[positions]+=1\n",
    "    weights = np.zeros((numObjects,))\n",
    "    for i in range(numObjects):\n",
    "        weights[i] = np.sum(distributions[i])\n",
    "    overallPDF = overallPDF / np.sum(overallPDF)\n",
    "    for i, split in enumerate(distributions):\n",
    "        tempSum = np.sum(split)\n",
    "        distributions[i] = split / tempSum\n",
    "    return weights, distributions, overallPDF"
   ]
  },
  {
   "cell_type": "code",
   "execution_count": 239,
   "metadata": {
    "collapsed": false
   },
   "outputs": [],
   "source": [
    "maxWeight = 10000\n",
    "sampleProportion = 1/5\n",
    "significanceLevel = 0.99931\n",
    "m = 3\n",
    "w, p, overallPDF =sample_to_pdf(sample, 10000)\n",
    "indices = list(nd_range(0, numBins, m)) #global variable corresponding to all the indices so we only need to generate them once.\n",
    "#It stores everything as tuples and we just call indices to get indices for multidimensional things since nested for loops don't\n",
    "#work with an unknown number of dimensions.\n",
    "def multi_dim_knapsack(w, p, maxWeight):\n",
    "    n = len(w)\n",
    "    m = len(p.shape)-1\n",
    "    totalWeight = 0\n",
    "    currentPDF = np.zeros([numBins for i in range(m)])\n",
    "    contents = dict()\n",
    "    weight = max(w)\n",
    "    #first, we take a simple random sample that has weight at most maxWeight/2. It should be similar to the population density.\n",
    "    while True:\n",
    "        i = np.random.randint(0,n)\n",
    "        if i not in contents:\n",
    "            if totalWeight + w[i] > maxWeight*sampleProportion:\n",
    "                break\n",
    "            else:\n",
    "                contents[i] = 1\n",
    "                totalWeight += w[i]\n",
    "                for k in indices:\n",
    "                    currentPDF[k] += w[i]*p[i][k]\n",
    "    #Now, we add objects to this sample to try to correct it and make it closer to the population density\n",
    "    \n",
    "    \n",
    "    #This is the approach that adds 1 object at a time. This time, we just take anything that's significantly better\n",
    "    currentDeviation = hellinger_dist(currentPDF, overallPDF)\n",
    "    pairAdded = True\n",
    "    numIts=0\n",
    "    while pairAdded:\n",
    "        counter = 0\n",
    "        for i, weight in enumerate(w):\n",
    "            if i not in contents and totalWeight+w[i] <= maxWeight:\n",
    "                tempPDF = copy.deepcopy(currentPDF)\n",
    "                for k in indices:\n",
    "                    tempPDF[k] += w[i]*p[i][k]\n",
    "                tempDeviation = hellinger_dist(tempPDF, overallPDF)\n",
    "                if tempDeviation <= (significanceLevel)*currentDeviation:\n",
    "                    currentDeviation = tempDeviation\n",
    "                    totalWeight += w[i]\n",
    "                    contents[i] = 1\n",
    "                    currentPDF = tempPDF\n",
    "                    counter += 1\n",
    "                    if totalWeight == maxWeight:\n",
    "                        return contents, currentDeviation, currentPDF, totalWeight, numIts\n",
    "        if counter == 0:\n",
    "            pairAdded = False\n",
    "        numIts += 1\n",
    "    \n",
    "    \n",
    "    return contents, currentDeviation, currentPDF, totalWeight, numIts"
   ]
  },
  {
   "cell_type": "code",
   "execution_count": 240,
   "metadata": {
    "collapsed": false
   },
   "outputs": [
    {
     "name": "stdout",
     "output_type": "stream",
     "text": [
      "3.4764058589935303\n"
     ]
    }
   ],
   "source": [
    "start_time = time.time()\n",
    "a, b, c, d, e = multi_dim_knapsack(w, p, maxWeight)\n",
    "time_taken = time.time() - start_time\n",
    "print(time_taken)"
   ]
  },
  {
   "cell_type": "markdown",
   "metadata": {
    "collapsed": false
   },
   "source": [
    "When running your code on whatever data you are attempting to run this on, the body of the code should look something like this:\n",
    "\n",
    "(define helper functions above)\n",
    "\n",
    "(Read in the data as an array of floats or ints)\n",
    "\n",
    "numBins = k (for a more precise sample, you want to have k as large as possible while still having 10+ elements in each bin)\n",
    "\n",
    "maxWeight = 10000\n",
    "\n",
    "sampleProportion = 1/5\n",
    "\n",
    "significanceLevel = 0.9991 (Adjust this parameter and sampleProportion manually for best results)\n",
    "\n",
    "w, p, overallPDF =sample_to_pdf(sample, n).     n is just however many groups of elements you wish to create. Fewer -> faster runtime but too few -> we can't fit many objects into the subsample -> we get a bad subsample\n",
    "\n",
    "m = 3\n",
    "\n",
    "indices = list(nd_range(0, numBins, m))\n",
    "\n",
    "a, b, c, d, e = multi_dim_knapsack(w, p, maxWeight)\n",
    "\n",
    "a tells you what groups were used in the subsample, which is what you use for whatever you wanted the subsample for.\n",
    "\n",
    "Finally, a tip about choosing the parameters:\n",
    "\n",
    "You want to leave sampleProportion somewhere about 0.2 and only increase it if you're struggling to fill your subsample.\n",
    "\n",
    "To choose significanceLevel, start off with a pretty high value: generally 0.9 for 100 groups of elements and then decrease the distance to 1 by half every time you multiply the number of groups of elements by 10.\n",
    "\n",
    "Then, you run the algorithm. If the weight of the end result is close to sampleProportion*maxWeight, increase the parameter by a lot. If it's not close to either endpoint, increase it by a little. If the number of iterations (5th variable returned by the function) is 0 or 1, then decrease the parameter by a bit. Repeat this until you get satisfactory results."
   ]
  },
  {
   "cell_type": "code",
   "execution_count": 241,
   "metadata": {
    "collapsed": false
   },
   "outputs": [
    {
     "data": {
      "text/plain": [
       "(9997.0, 0.015759572122200576, 2)"
      ]
     },
     "execution_count": 241,
     "metadata": {},
     "output_type": "execute_result"
    }
   ],
   "source": [
    "d, b, e"
   ]
  },
  {
   "cell_type": "code",
   "execution_count": null,
   "metadata": {
    "collapsed": false
   },
   "outputs": [],
   "source": []
  },
  {
   "cell_type": "code",
   "execution_count": 10,
   "metadata": {
    "collapsed": false
   },
   "outputs": [],
   "source": [
    "#this is the slower version that takes the best object each iteration. It actually performs a lot worse than the faster algorithm.\n",
    "def slower_knapsack(w, p, maxWeight):\n",
    "    \n",
    "    n = len(w)\n",
    "    totalWeight = 0\n",
    "    currentPDF = np.zeros([numBins for i in range(m)])\n",
    "    contents = dict()\n",
    "    #first, we take a simple random sample that has weight at most maxWeight/2. It should be similar to the population density.\n",
    "    while True:\n",
    "        i = np.random.randint(0,n)\n",
    "        if i not in contents:\n",
    "            if totalWeight + w[i] > maxWeight*2/3:\n",
    "                break\n",
    "            else:\n",
    "                contents[i] = 1\n",
    "                totalWeight += w[i]\n",
    "                totalSum = np.sum(p[i])\n",
    "                for j in indices:\n",
    "                    currentPDF[j] += w[i]*p[i][j]/totalSum\n",
    "            \n",
    "            \n",
    "    #Now, we add objects to this sample to try to correct it and make it closer to the population density (uniform)\n",
    "    \n",
    "    \n",
    "    #This is the approach that adds the best object each iteration.\n",
    "    currentDeviation = hellinger_dist(currentPDF, overallPDF)\n",
    "    pairAdded = True\n",
    "    while pairAdded:\n",
    "        minDeviation = currentDeviation\n",
    "        minIndex = 0\n",
    "        minDistribution = currentPDF\n",
    "        for i, weight in enumerate(w):\n",
    "            if i not in contents and totalWeight+w[i] <= maxWeight:\n",
    "                tempPDF = copy.deepcopy(currentPDF)\n",
    "                totalSum = np.sum(p[i])\n",
    "                for j in indices:\n",
    "                    tempPDF[j] += p[i][j]/totalSum\n",
    "                tempDeviation = hellinger_dist(tempPDF, overallPDF)\n",
    "                if tempDeviation < minDeviation:\n",
    "                    minDeviation = tempDeviation\n",
    "                    minIndex = i\n",
    "                    minDistribution = tempPDF\n",
    "        if minDeviation < currentDeviation:\n",
    "            currentDeviation = minDeviation\n",
    "            totalWeight += w[minIndex]\n",
    "            currentPDF = minDistribution\n",
    "            contents[minIndex] = 1\n",
    "        else:\n",
    "            pairAdded = False\n",
    "    \n",
    "    \n",
    "    return contents, currentDeviation, currentPDF, totalWeight"
   ]
  },
  {
   "cell_type": "code",
   "execution_count": 11,
   "metadata": {
    "collapsed": false
   },
   "outputs": [
    {
     "name": "stdout",
     "output_type": "stream",
     "text": [
      "9.359015226364136\n"
     ]
    }
   ],
   "source": [
    "start_time = time.time()\n",
    "a, b, c, d = slower_knapsack(w, p, maxWeight)\n",
    "time_taken = time.time() - start_time\n",
    "print(time_taken)"
   ]
  },
  {
   "cell_type": "code",
   "execution_count": 12,
   "metadata": {
    "collapsed": false
   },
   "outputs": [
    {
     "data": {
      "text/plain": [
       "0.039007970577959135"
      ]
     },
     "execution_count": 12,
     "metadata": {},
     "output_type": "execute_result"
    }
   ],
   "source": [
    "b"
   ]
  },
  {
   "cell_type": "code",
   "execution_count": 13,
   "metadata": {
    "collapsed": false
   },
   "outputs": [
    {
     "data": {
      "text/plain": [
       "9999.0"
      ]
     },
     "execution_count": 13,
     "metadata": {},
     "output_type": "execute_result"
    }
   ],
   "source": [
    "d"
   ]
  },
  {
   "cell_type": "code",
   "execution_count": null,
   "metadata": {
    "collapsed": false
   },
   "outputs": [],
   "source": []
  },
  {
   "cell_type": "code",
   "execution_count": null,
   "metadata": {
    "collapsed": false
   },
   "outputs": [],
   "source": []
  },
  {
   "cell_type": "code",
   "execution_count": null,
   "metadata": {
    "collapsed": false
   },
   "outputs": [],
   "source": []
  },
  {
   "cell_type": "code",
   "execution_count": 16,
   "metadata": {
    "collapsed": true
   },
   "outputs": [],
   "source": [
    "import matplotlib.pyplot as plt"
   ]
  },
  {
   "cell_type": "code",
   "execution_count": 248,
   "metadata": {
    "collapsed": false
   },
   "outputs": [],
   "source": [
    "variance = np.zeros((5,))\n",
    "sigLevels = [0.92, 0.955, 0.989, 0.998, 0.99931]\n",
    "sampleProportion = 0.2\n",
    "for i, j in enumerate([100, 300, 1000, 3000, 10000]):\n",
    "    significanceLevel = sigLevels[i]\n",
    "    w, p, overallPDF = sample_to_pdf(sample, j)\n",
    "    a, b, c, d, e = multi_dim_knapsack(w, p, maxWeight)\n",
    "    variance[i] = b\n"
   ]
  },
  {
   "cell_type": "code",
   "execution_count": 249,
   "metadata": {
    "collapsed": false
   },
   "outputs": [],
   "source": [
    "log_variance = np.zeros(5,)\n",
    "for i in range(5):\n",
    "    log_variance[i] = math.log(variance[i])"
   ]
  },
  {
   "cell_type": "code",
   "execution_count": 250,
   "metadata": {
    "collapsed": false
   },
   "outputs": [
    {
     "data": {
      "image/png": "[encoded data removed]",
      "text/plain": [
       "<matplotlib.figure.Figure at 0x234ca61f668>"
      ]
     },
     "metadata": {},
     "output_type": "display_data"
    },
    {
     "data": {
      "image/png": "[encoded data removed]",
      "text/plain": [
       "<matplotlib.figure.Figure at 0x234c99e4b70>"
      ]
     },
     "metadata": {},
     "output_type": "display_data"
    }
   ],
   "source": [
    "plt.plot([100, 300, 1000, 3000, 10000], variance)\n",
    "plt.show()\n",
    "#The first graph shows some sort of behavior that suggest we probably want to look at a power model\n",
    "\n",
    "plt.plot([math.log(100), math.log(300), math.log(1000), math.log(3000), math.log(10000)], log_variance)\n",
    "plt.show()\n"
   ]
  },
  {
   "cell_type": "code",
   "execution_count": null,
   "metadata": {
    "collapsed": false
   },
   "outputs": [],
   "source": []
  },
  {
   "cell_type": "code",
   "execution_count": 254,
   "metadata": {
    "collapsed": false
   },
   "outputs": [
    {
     "name": "stdout",
     "output_type": "stream",
     "text": [
      "-0.17877348072\n"
     ]
    }
   ],
   "source": [
    "slope = (log_variance[4] - log_variance[0]) / (math.log(10000) - math.log(100))\n",
    "print(slope)"
   ]
  },
  {
   "cell_type": "markdown",
   "metadata": {},
   "source": [
    "The second graph above looks fine for linear regression. Although it is not ideal, the significance levels were computed with trial and error manually and thus are not completely optimal. If the significance levels were chosen perfectly, it is probable that we would get a graph very well suited to regression, allowing us to estimate the variance based on the number of objects. This gives us a good estimate of the tradeoff between runtime and accuracy as having more objects results in more runtime, but also greater accuracy.\n",
    "\n",
    "As seen above, the slope is about -0.18, meaning that the variance decreases with $n^{0.18}$. As the number of objects increases, however, the value of the significance level gets more difficult to compute and it requires more precision to consistently produce a good result. As such, there is a very significant runtime increase as n increases, as the algorithm runs in O(n) time and we have to increase the number of test runs to compute a good value for the significance level.\n",
    "\n",
    "\n",
    "\n",
    "As a side note, you can see below that using another distance metric, average euclidean distance, we also get a very similar looking graph. Hence, we can see that when we optimize on one distance metric, we tend to optimize for others as well. Furthermore, since average euclidean distance is the one that is most similar to the normal way of calculating variance for a parameter, this shows that this is probably a good estimate of the variance."
   ]
  },
  {
   "cell_type": "code",
   "execution_count": 255,
   "metadata": {
    "collapsed": true
   },
   "outputs": [],
   "source": [
    "variance = np.zeros((5,))\n",
    "for i, j in enumerate([100, 300, 1000, 3000, 10000]):\n",
    "    significanceLevel = sigLevels[i]\n",
    "    w, p, overallPDF = sample_to_pdf(sample, j)\n",
    "    a, b, c, d, e = multi_dim_knapsack(w, p, maxWeight)\n",
    "    diff = euclidean_dist(c, overallPDF)\n",
    "    variance[i] = np.sum(abs(diff))/125\n"
   ]
  },
  {
   "cell_type": "code",
   "execution_count": 256,
   "metadata": {
    "collapsed": false
   },
   "outputs": [
    {
     "data": {
      "image/png": "[encoded data removed]",
      "text/plain": [
       "<matplotlib.figure.Figure at 0x234c749e7b8>"
      ]
     },
     "metadata": {},
     "output_type": "display_data"
    }
   ],
   "source": [
    "plt.plot([math.log(100), math.log(300), math.log(1000), math.log(3000), math.log(10000)], log_variance)\n",
    "plt.show()"
   ]
  },
  {
   "cell_type": "code",
   "execution_count": null,
   "metadata": {
    "collapsed": true
   },
   "outputs": [],
   "source": []
  }
 ],
 "metadata": {
  "anaconda-cloud": {},
  "kernelspec": {
   "display_name": "Python [default]",
   "language": "python",
   "name": "python3"
  },
  "language_info": {
   "codemirror_mode": {
    "name": "ipython",
    "version": 3
   },
   "file_extension": ".py",
   "mimetype": "text/x-python",
   "name": "python",
   "nbconvert_exporter": "python",
   "pygments_lexer": "ipython3",
   "version": "3.5.2"
  }
 },
 "nbformat": 4,
 "nbformat_minor": 1
}
