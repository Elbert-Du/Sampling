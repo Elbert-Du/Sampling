{
 "cells": [
  {
   "cell_type": "code",
   "execution_count": 1,
   "metadata": {
    "collapsed": true
   },
   "outputs": [],
   "source": [
    "import numpy as np\n",
    "import copy\n",
    "import math\n",
    "import itertools\n",
    "import matplotlib.pyplot as plt\n",
    "import collections\n",
    "import time\n",
    "\n",
    "def bhattacharyya_dist(sampleDist, PDF):\n",
    "    coefficient = 0\n",
    "    tempDist = copy.deepcopy(sampleDist)\n",
    "    totalSum = np.sum(sampleDist)\n",
    "    for i in indices:\n",
    "        tempDist[i] = tempDist[i] / totalSum\n",
    "    for i in indices:\n",
    "        coefficient += math.sqrt(tempDist[i]*PDF[i])\n",
    "    return -math.log(coefficient)\n",
    "    \n",
    "def hellinger_dist(sampleDist, PDF):\n",
    "    coefficient = 0\n",
    "    tempDist = copy.deepcopy(sampleDist)\n",
    "    totalSum = np.sum(sampleDist)\n",
    "    for i in indices:\n",
    "        tempDist[i] = tempDist[i] / totalSum\n",
    "    for i in indices:\n",
    "        coefficient += math.sqrt(tempDist[i]*PDF[i])\n",
    "    return math.sqrt(1-coefficient)"
   ]
  },
  {
   "cell_type": "code",
   "execution_count": 2,
   "metadata": {
    "collapsed": true
   },
   "outputs": [],
   "source": [
    "#Initializing some constants for testing. These constants are used in all of the functions defined, so if you want to use this\n",
    "#code, set domain, jumpSize, and numJumps the same way they are set here.\n",
    "\n",
    "domain = [0.05, 1] #1st num is inclusive, 2nd is exclusive\n",
    "jumpSize = 0.05\n",
    "numJumps = int((domain[1]-domain[0])/jumpSize)+1\n",
    "maxWeight = 8000\n",
    "n=8000\n",
    "w = np.random.randint(1,20,n)\n",
    "\n",
    "#This is a function that takes values from the pdf and computes the average deviation from the target distribution\n",
    "def closeness(distribution, initialDistribution):\n",
    "    deviation = 0\n",
    "    tempDistribution = copy.deepcopy(distribution)\n",
    "    totalSum = np.sum(distribution)\n",
    "    for i in indices: #make sure size doesn't make issues\n",
    "        tempDistribution[i] = tempDistribution[i]/totalSum\n",
    "    #print(sum(distribution))\n",
    "    for i in indices:\n",
    "        deviation += (tempDistribution[i] - initialDistribution[i])**2\n",
    "    return deviation\n",
    "\n",
    "\n",
    "#For future, use the kolmogorov-smirnov goodness of fit. First of all, we get a probability distribution so use the p-values to\n",
    "#see how much better our sample does than SRS. Also, kstest in scipy also gives the sample statistic which measures distance."
   ]
  },
  {
   "cell_type": "code",
   "execution_count": 3,
   "metadata": {
    "collapsed": true
   },
   "outputs": [],
   "source": [
    "#Generating random pdfs for testing\n",
    "\n",
    "def f(a):\n",
    "    def g(b):\n",
    "        def h(c):\n",
    "            def k(d):\n",
    "                return(abs(0.5*d**a-d**b+0.5*d**c))\n",
    "            return k\n",
    "        return h\n",
    "    return g\n",
    "\n",
    "p = []\n",
    "\n",
    "for i in np.random.random(20):\n",
    "    for j in np.random.random(20):\n",
    "        for m in np.random.random(20):\n",
    "            p.append(f(i)(j)(m))\n",
    "            \n"
   ]
  },
  {
   "cell_type": "code",
   "execution_count": 4,
   "metadata": {
    "collapsed": false
   },
   "outputs": [],
   "source": [
    "#Calculating overall PDF to compare against\n",
    "\n",
    "PDF = np.zeros((numJumps,))\n",
    "for func in p:\n",
    "    for i in range(numJumps):\n",
    "        PDF[i] += func((i)*jumpSize+domain[0])\n",
    "totalSum = np.sum(PDF)\n",
    "for i in range(numJumps):\n",
    "    PDF[i] = PDF[i] / totalSum"
   ]
  },
  {
   "cell_type": "code",
   "execution_count": null,
   "metadata": {
    "collapsed": true
   },
   "outputs": [],
   "source": []
  },
  {
   "cell_type": "code",
   "execution_count": null,
   "metadata": {
    "collapsed": true
   },
   "outputs": [],
   "source": []
  },
  {
   "cell_type": "code",
   "execution_count": 5,
   "metadata": {
    "collapsed": true
   },
   "outputs": [],
   "source": [
    "#Recursive helper function to give us all indices so that we can get the values correctly for the multidimensional case.\n",
    "#You should use this to set a global variable before you need to use it so you only need to call this once. If you call this\n",
    "#function many times with many dimensions, it will slow down your code a lot.\n",
    "\n",
    "def nd_range(start, stop, dims):\n",
    "  if not dims:\n",
    "    yield ()\n",
    "    return\n",
    "  for outer in nd_range(start, stop, dims - 1):\n",
    "    for inner in range(start, stop):\n",
    "      yield outer + (inner,)"
   ]
  },
  {
   "cell_type": "code",
   "execution_count": 41,
   "metadata": {
    "collapsed": true
   },
   "outputs": [],
   "source": [
    "sampleProportion = 1/5\n",
    "significanceLevel = 0.9998\n",
    "\n",
    "\n",
    "\"\"\"\n",
    "This is the version of the problem that works with one-dimensional data.\n",
    "Feel free to download this notebook and try different values for the above parameters: you will see that in general, barely \n",
    "being able to fill up the knapsack (or coming close without quite filling it up) generally leads to the smallest errors. Also,\n",
    "having a smaller sample will lead to better results as long as you can still fill up the knapsack.\n",
    "With well chosen parameters, this algorithm will lead to good results both on the fullness metric and on the similarity metric.\n",
    "\"\"\"\n",
    "m = 1\n",
    "indices = list(nd_range(0, numJumps, m))\n",
    "def single_dim_knapsack(w, n, p, maxWeight):\n",
    "    totalWeight = 0\n",
    "    currentPDF = np.zeros((numJumps,))\n",
    "    contents = dict()\n",
    "    #first, we take a simple random sample that has weight at most maxWeight/2. It should be similar to the population density.\n",
    "    while True:\n",
    "        i = np.random.randint(0,n)\n",
    "        if i not in contents:\n",
    "            if totalWeight + w[i] > maxWeight*sampleProportion:\n",
    "                break\n",
    "            else:\n",
    "                contents[i] = 1\n",
    "                totalWeight += w[i]\n",
    "                totalSum = 0\n",
    "                for j in range(numJumps):\n",
    "                    totalSum += p[i](jumpSize*j+domain[0])\n",
    "                for j in range(numJumps):\n",
    "                    currentPDF[j] += w[i]*(p[i](jumpSize*j+domain[0]))/totalSum\n",
    "    #Now, we add objects to this sample to try to correct it and make it closer to the population density\n",
    "    \n",
    "    \n",
    "    #This is the approach that adds 1 object at a time. This time, we just take anything that's significantly better\n",
    "    currentDeviation = hellinger_dist(currentPDF, PDF)\n",
    "    pairAdded = True\n",
    "    numIts=0\n",
    "    while pairAdded:\n",
    "        counter = 0\n",
    "        for i, weight in enumerate(w):\n",
    "            if i not in contents and totalWeight+w[i] <= maxWeight:\n",
    "                tempPDF = copy.deepcopy(currentPDF)\n",
    "                totalSum = 0\n",
    "                for j in range(numJumps):\n",
    "                    totalSum += p[i](jumpSize*j+domain[0])\n",
    "                for j in range(numJumps):\n",
    "                    tempPDF[j] += w[i]*(p[i](jumpSize*j+domain[0]))/totalSum\n",
    "                tempDeviation = hellinger_dist(tempPDF, PDF)\n",
    "                if tempDeviation <= (significanceLevel)*currentDeviation:\n",
    "                    currentDeviation = tempDeviation\n",
    "                    totalWeight += w[i]\n",
    "                    contents[i] = 1\n",
    "                    currentPDF = tempPDF\n",
    "                    counter += 1\n",
    "                    if totalWeight == maxWeight:\n",
    "                        return contents, currentDeviation, currentPDF, totalWeight, numIts\n",
    "        if counter == 0:\n",
    "            pairAdded = False\n",
    "        numIts += 1\n",
    "    \n",
    "    \n",
    "    return contents, currentDeviation, currentPDF, totalWeight, numIts"
   ]
  },
  {
   "cell_type": "code",
   "execution_count": 42,
   "metadata": {
    "collapsed": false
   },
   "outputs": [
    {
     "name": "stdout",
     "output_type": "stream",
     "text": [
      "16.30755615234375\n"
     ]
    }
   ],
   "source": [
    "start_time = time.time()\n",
    "a, b, c, d, e = single_dim_knapsack(w, n, p, maxWeight)\n",
    "timeTaken = time.time() - start_time\n",
    "print(timeTaken)"
   ]
  },
  {
   "cell_type": "code",
   "execution_count": 43,
   "metadata": {
    "collapsed": false
   },
   "outputs": [],
   "source": [
    "totalSum = np.sum(c)\n",
    "for i in range(numJumps):\n",
    "    c[i] = c[i] / totalSum"
   ]
  },
  {
   "cell_type": "code",
   "execution_count": 44,
   "metadata": {
    "collapsed": false
   },
   "outputs": [
    {
     "data": {
      "text/plain": [
       "0.0001377472754701727"
      ]
     },
     "execution_count": 44,
     "metadata": {},
     "output_type": "execute_result"
    }
   ],
   "source": [
    "hellinger_dist(c, PDF)"
   ]
  },
  {
   "cell_type": "code",
   "execution_count": 45,
   "metadata": {
    "collapsed": false
   },
   "outputs": [
    {
     "data": {
      "text/plain": [
       "1.8974312079467902e-08"
      ]
     },
     "execution_count": 45,
     "metadata": {},
     "output_type": "execute_result"
    }
   ],
   "source": [
    "bhattacharyya_dist(c, PDF)"
   ]
  },
  {
   "cell_type": "code",
   "execution_count": 46,
   "metadata": {
    "collapsed": false
   },
   "outputs": [
    {
     "data": {
      "text/plain": [
       "9186"
      ]
     },
     "execution_count": 46,
     "metadata": {},
     "output_type": "execute_result"
    }
   ],
   "source": [
    "d"
   ]
  },
  {
   "cell_type": "code",
   "execution_count": 47,
   "metadata": {
    "collapsed": false
   },
   "outputs": [
    {
     "data": {
      "text/plain": [
       "5.4127691743046652e-09"
      ]
     },
     "execution_count": 47,
     "metadata": {},
     "output_type": "execute_result"
    }
   ],
   "source": [
    "closeness(c, PDF)"
   ]
  },
  {
   "cell_type": "markdown",
   "metadata": {
    "collapsed": false
   },
   "source": [
    "As you can see, the Bhattacharyya distance is smaller than the hellinger distance. The following graph is a representation of the values of the two distances against the value of the Bhattacharyya coefficient, a measure of similarity between the two distributions. As you can see, the Bhattacharyya distance (blue squares) grows much more slowly than Hellinger distance (red dashes) when the two distributions are very similar (as they are in the case of what our algorithm creates), meaning that the Hellinger distance is a better metric for optimization."
   ]
  },
  {
   "cell_type": "code",
   "execution_count": 21,
   "metadata": {
    "collapsed": false
   },
   "outputs": [
    {
     "data": {
      "image/png": "[encoded data removed]",
      "text/plain": [
       "<matplotlib.figure.Figure at 0x2bea56b58d0>"
      ]
     },
     "metadata": {},
     "output_type": "display_data"
    }
   ],
   "source": [
    "x = np.arange(0.01, 1.01, 0.01)\n",
    "y = np.zeros((100,))\n",
    "for i in range(len(x)):\n",
    "    y[i] = -math.log(x[i])\n",
    "plt.plot(x, (1-x)**(1/2), 'r--', x, y, 'bs')\n",
    "plt.show()"
   ]
  },
  {
   "cell_type": "markdown",
   "metadata": {
    "collapsed": true
   },
   "source": [
    "Now, we shall make it multidimensional.\n",
    "The main difference this time is that each entry in p now contains m dimensions.\n",
    "We still use the same idea: using jumps to approximate the distribution and then use hellinger distance.\n",
    "Also, rather than having p be a function, we'll just make it an approximation with the densities.\n",
    "\n",
    "\n",
    "This algorithm has not yet been tested for accuracy. It shall be edited to work with p being a vector of samples instead of a\n",
    "vector of pdfs as that will make it significantly easier to use (since most data sets come as samples)."
   ]
  },
  {
   "cell_type": "markdown",
   "metadata": {
    "collapsed": false
   },
   "source": [
    "The following cells imports some data from UC Irvine's repository. It takes the 134524 elements and randomly combines them into 10,000 groups, and then runs the multidimensional version on the groups. Each data point has 3 attributes that take values along the real numbers. We thus created bins that are inclusive on the lower bound and exclusive on the upper bound, and by doing so, created a 5x5x5 array for the pdfs that the function uses. It can be seen that the function gives worse results for the 3-d case than the 1-d case and the runtime increases as well, but neither of these decreases in performance is particularly bad. This is because we use a metric (hellinger distance) that can easily be used in higher dimensions."
   ]
  },
  {
   "cell_type": "code",
   "execution_count": 22,
   "metadata": {
    "collapsed": false
   },
   "outputs": [],
   "source": [
    "a = open('multidim-data.txt', 'r')"
   ]
  },
  {
   "cell_type": "code",
   "execution_count": 23,
   "metadata": {
    "collapsed": false
   },
   "outputs": [],
   "source": [
    "data = a.readlines()"
   ]
  },
  {
   "cell_type": "code",
   "execution_count": 24,
   "metadata": {
    "collapsed": false
   },
   "outputs": [],
   "source": [
    "data = [x.strip('\\n') for x in data] \n",
    "data = [x.split(',') for x in data] "
   ]
  },
  {
   "cell_type": "code",
   "execution_count": 25,
   "metadata": {
    "collapsed": false
   },
   "outputs": [],
   "source": [
    "for i, asdf in enumerate(data):\n",
    "    del(asdf[7])\n",
    "    del(asdf[0:4])"
   ]
  },
  {
   "cell_type": "code",
   "execution_count": 26,
   "metadata": {
    "collapsed": false
   },
   "outputs": [],
   "source": [
    "for i in range(len(data)):\n",
    "    for j in range(len(data[i])):\n",
    "        data[i][j] = float(data[i][j])"
   ]
  },
  {
   "cell_type": "code",
   "execution_count": null,
   "metadata": {
    "collapsed": false
   },
   "outputs": [],
   "source": []
  },
  {
   "cell_type": "code",
   "execution_count": null,
   "metadata": {
    "collapsed": true
   },
   "outputs": [],
   "source": []
  },
  {
   "cell_type": "code",
   "execution_count": null,
   "metadata": {
    "collapsed": false,
    "scrolled": true
   },
   "outputs": [],
   "source": []
  },
  {
   "cell_type": "code",
   "execution_count": 27,
   "metadata": {
    "collapsed": false
   },
   "outputs": [],
   "source": [
    "maxX = -float('inf')\n",
    "maxY = -float('inf')\n",
    "maxZ = -float('inf')\n",
    "for i in data:\n",
    "    if i[0] > maxX:\n",
    "        maxX = i[0]\n",
    "    if i[1] > maxY:\n",
    "        maxY = i[1]\n",
    "    if i[2] > maxZ:\n",
    "        maxZ = i[2]\n",
    "maxValues = np.array([maxX, maxY, maxZ]) + np.array([0.0001, 0.0001, 0.0001])"
   ]
  },
  {
   "cell_type": "code",
   "execution_count": 28,
   "metadata": {
    "collapsed": false
   },
   "outputs": [],
   "source": [
    "minX = float('inf')\n",
    "minY = float('inf')\n",
    "minZ = float('inf')\n",
    "for i in data:\n",
    "    if i[0] < minX:\n",
    "        minX = i[0]\n",
    "    if i[1] < minY:\n",
    "        minY = i[1]\n",
    "    if i[2] < minZ:\n",
    "        minZ = i[2]\n",
    "minValues = np.array([minX, minY, minZ])"
   ]
  },
  {
   "cell_type": "code",
   "execution_count": 29,
   "metadata": {
    "collapsed": false
   },
   "outputs": [
    {
     "name": "stdout",
     "output_type": "stream",
     "text": [
      "[ 5.75827347  3.94388185  2.60620461] [-0.27869827 -0.49442777 -2.54360914]\n"
     ]
    }
   ],
   "source": [
    "print(maxValues, minValues)\n",
    "numBins = 5\n",
    "binSize = (maxValues - minValues) / numBins"
   ]
  },
  {
   "cell_type": "code",
   "execution_count": 30,
   "metadata": {
    "collapsed": false
   },
   "outputs": [
    {
     "data": {
      "text/plain": [
       "array([ 1.20739435,  0.88766192,  1.02996275])"
      ]
     },
     "execution_count": 30,
     "metadata": {},
     "output_type": "execute_result"
    }
   ],
   "source": [
    "binSize"
   ]
  },
  {
   "cell_type": "code",
   "execution_count": 31,
   "metadata": {
    "collapsed": false
   },
   "outputs": [],
   "source": [
    "bins = list(nd_range(0, numBins, 3))\n",
    "distributions = np.zeros((10000, 5, 5, 5))\n",
    "overallPDF = np.zeros((5, 5, 5))\n",
    "for element in data:\n",
    "    i = np.random.randint(0,10000)\n",
    "    xPos = math.floor((element[0]-minValues[0])/binSize[0])\n",
    "    yPos = math.floor((element[1]-minValues[1])/binSize[1])\n",
    "    zPos = math.floor((element[2]-minValues[2])/binSize[2])\n",
    "    distributions[i][xPos][yPos][zPos] += 1\n",
    "    overallPDF[xPos][yPos][zPos]+=1\n",
    "weights = np.zeros((10000,))\n",
    "for i in range(10000):\n",
    "    weights[i] = np.sum(distributions[i])\n",
    "overallPDF = overallPDF / np.sum(overallPDF)\n",
    "for i, split in enumerate(distributions):\n",
    "    tempSum = np.sum(split)\n",
    "    distributions[i] = split / tempSum"
   ]
  },
  {
   "cell_type": "code",
   "execution_count": 32,
   "metadata": {
    "collapsed": false
   },
   "outputs": [
    {
     "data": {
      "text/plain": [
       "array([[[  0.00000000e+00,   3.71680890e-05,   2.23008534e-05,\n",
       "           1.04070649e-04,   3.04778330e-04],\n",
       "        [  0.00000000e+00,   3.71680890e-05,   1.21167970e-03,\n",
       "           7.80529868e-04,   8.77166900e-04],\n",
       "        [  7.43361779e-06,   5.20353246e-05,   2.25981981e-03,\n",
       "           1.29344950e-03,   1.48672356e-05],\n",
       "        [  7.43361779e-06,   3.71680890e-05,   6.16990277e-04,\n",
       "           8.17697957e-04,   1.12990990e-03],\n",
       "        [  1.48672356e-05,   7.43361779e-06,   4.46017068e-05,\n",
       "           0.00000000e+00,   4.75751539e-04]],\n",
       "\n",
       "       [[  0.00000000e+00,   1.63539591e-04,   3.64247272e-04,\n",
       "           1.78406827e-04,   0.00000000e+00],\n",
       "        [  0.00000000e+00,   5.79822188e-04,   2.25015611e-02,\n",
       "           6.19963724e-03,   3.71680890e-05],\n",
       "        [  7.43361779e-06,   3.49380036e-04,   9.21396925e-02,\n",
       "           4.09369332e-02,   5.20353246e-05],\n",
       "        [  0.00000000e+00,   4.98052392e-04,   7.44625494e-02,\n",
       "           9.66370313e-03,   2.97344712e-05],\n",
       "        [  0.00000000e+00,   1.63539591e-04,   3.27079183e-04,\n",
       "           9.66370313e-05,   0.00000000e+00]],\n",
       "\n",
       "       [[  0.00000000e+00,   1.26371502e-04,   5.87255806e-04,\n",
       "           1.63539591e-04,   0.00000000e+00],\n",
       "        [  7.43361779e-06,   1.12247629e-03,   4.19107371e-02,\n",
       "           3.06934079e-02,   1.48672356e-05],\n",
       "        [  0.00000000e+00,   2.30442152e-04,   1.86940620e-01,\n",
       "           1.01231007e-01,   1.41238738e-04],\n",
       "        [  0.00000000e+00,   1.11504267e-04,   6.26728316e-02,\n",
       "           3.40831376e-02,   1.48672356e-05],\n",
       "        [  0.00000000e+00,   8.92034135e-05,   3.19645565e-04,\n",
       "           3.71680890e-05,   0.00000000e+00]],\n",
       "\n",
       "       [[  0.00000000e+00,   1.41238738e-04,   2.82477476e-04,\n",
       "           1.18937885e-04,   7.43361779e-06],\n",
       "        [  0.00000000e+00,   1.56105974e-04,   6.86717612e-02,\n",
       "           1.13957361e-02,   4.46017068e-05],\n",
       "        [  0.00000000e+00,   1.41238738e-04,   1.16209747e-01,\n",
       "           4.64452440e-02,   2.97344712e-04],\n",
       "        [  0.00000000e+00,   2.23008534e-05,   4.25946300e-03,\n",
       "           4.16282596e-03,   2.97344712e-05],\n",
       "        [  0.00000000e+00,   2.23008534e-05,   3.71680890e-05,\n",
       "           7.43361779e-06,   0.00000000e+00]],\n",
       "\n",
       "       [[  0.00000000e+00,   2.97344712e-05,   2.67610241e-04,\n",
       "           1.78406827e-04,   1.11504267e-04],\n",
       "        [  0.00000000e+00,   4.46017068e-05,   1.00576849e-02,\n",
       "           1.98477595e-03,   6.46724748e-04],\n",
       "        [  0.00000000e+00,   0.00000000e+00,   1.16336118e-02,\n",
       "           2.30442152e-03,   2.23008534e-05],\n",
       "        [  0.00000000e+00,   2.23008534e-05,   1.85840445e-04,\n",
       "           3.12211947e-04,   1.48672356e-05],\n",
       "        [  0.00000000e+00,   0.00000000e+00,   7.43361779e-06,\n",
       "           0.00000000e+00,   3.19645565e-04]]])"
      ]
     },
     "execution_count": 32,
     "metadata": {},
     "output_type": "execute_result"
    }
   ],
   "source": [
    "overallPDF"
   ]
  },
  {
   "cell_type": "code",
   "execution_count": 33,
   "metadata": {
    "collapsed": false
   },
   "outputs": [],
   "source": [
    "num = 1000\n",
    "maxWeight = 10000"
   ]
  },
  {
   "cell_type": "code",
   "execution_count": 34,
   "metadata": {
    "collapsed": false
   },
   "outputs": [],
   "source": [
    "sampleProportion = 1/5\n",
    "significanceLevel = 0.9991\n",
    "m = 3\n",
    "indices = list(nd_range(0, numBins, m)) #global variable corresponding to all the indices so we only need to generate them once.\n",
    "def multi_dim_knapsack(w, n, p, maxWeight, m):\n",
    "    totalWeight = 0\n",
    "    currentPDF = np.zeros([numBins for i in range(m)])\n",
    "    contents = dict()\n",
    "    #first, we take a simple random sample that has weight at most maxWeight/2. It should be similar to the population density.\n",
    "    while True:\n",
    "        i = np.random.randint(0,n)\n",
    "        if i not in contents:\n",
    "            if totalWeight + w[i] > maxWeight*sampleProportion:\n",
    "                break\n",
    "            else:\n",
    "                contents[i] = 1\n",
    "                totalWeight += w[i]\n",
    "                totalSum = 0\n",
    "                for k in indices:\n",
    "                    totalSum += p[i][k]\n",
    "                for k in indices:\n",
    "                    currentPDF[k] += w[i]*p[i][k]/totalSum\n",
    "    #Now, we add objects to this sample to try to correct it and make it closer to the population density\n",
    "    \n",
    "    \n",
    "    #This is the approach that adds 1 object at a time. This time, we just take anything that's significantly better\n",
    "    currentDeviation = hellinger_dist(currentPDF, overallPDF)\n",
    "    pairAdded = True\n",
    "    numIts=0\n",
    "    while pairAdded:\n",
    "        counter = 0\n",
    "        for i, weight in enumerate(w):\n",
    "            if i not in contents and totalWeight+w[i] <= maxWeight:\n",
    "                tempPDF = copy.deepcopy(currentPDF)\n",
    "                totalSum = 0\n",
    "                for k in indices:\n",
    "                    totalSum += p[i][k]\n",
    "                for k in indices:\n",
    "                    tempPDF[k] += w[i]*p[i][k]/totalSum\n",
    "                tempDeviation = hellinger_dist(tempPDF, overallPDF)\n",
    "                if tempDeviation <= (significanceLevel)*currentDeviation:\n",
    "                    currentDeviation = tempDeviation\n",
    "                    totalWeight += w[i]\n",
    "                    contents[i] = 1\n",
    "                    currentPDF = tempPDF\n",
    "                    counter += 1\n",
    "                    if totalWeight == maxWeight:\n",
    "                        return contents, currentDeviation, currentPDF, totalWeight, numIts\n",
    "        if counter == 0:\n",
    "            pairAdded = False\n",
    "        numIts += 1\n",
    "    \n",
    "    \n",
    "    return contents, currentDeviation, currentPDF, totalWeight, numIts"
   ]
  },
  {
   "cell_type": "code",
   "execution_count": 35,
   "metadata": {
    "collapsed": false
   },
   "outputs": [
    {
     "name": "stdout",
     "output_type": "stream",
     "text": [
      "19.198320627212524\n"
     ]
    }
   ],
   "source": [
    "start_time = time.time()\n",
    "a1, b1, c1, d1, e1 = multi_dim_knapsack(weights, num, distributions, maxWeight, 3)\n",
    "time_taken = time.time() - start_time\n",
    "print(time_taken)"
   ]
  },
  {
   "cell_type": "code",
   "execution_count": 36,
   "metadata": {
    "collapsed": false
   },
   "outputs": [
    {
     "data": {
      "text/plain": [
       "0.016229246124619286"
      ]
     },
     "execution_count": 36,
     "metadata": {},
     "output_type": "execute_result"
    }
   ],
   "source": [
    "b1"
   ]
  },
  {
   "cell_type": "code",
   "execution_count": 37,
   "metadata": {
    "collapsed": false
   },
   "outputs": [
    {
     "data": {
      "text/plain": [
       "9997.0"
      ]
     },
     "execution_count": 37,
     "metadata": {},
     "output_type": "execute_result"
    }
   ],
   "source": [
    "d1"
   ]
  },
  {
   "cell_type": "code",
   "execution_count": 38,
   "metadata": {
    "collapsed": false
   },
   "outputs": [
    {
     "data": {
      "text/plain": [
       "5"
      ]
     },
     "execution_count": 38,
     "metadata": {},
     "output_type": "execute_result"
    }
   ],
   "source": [
    "e1"
   ]
  },
  {
   "cell_type": "code",
   "execution_count": 39,
   "metadata": {
    "collapsed": false
   },
   "outputs": [
    {
     "data": {
      "text/plain": [
       "2.7311646969713808e-07"
      ]
     },
     "execution_count": 39,
     "metadata": {},
     "output_type": "execute_result"
    }
   ],
   "source": [
    "closeness(c1, overallPDF)"
   ]
  },
  {
   "cell_type": "code",
   "execution_count": 40,
   "metadata": {
    "collapsed": false
   },
   "outputs": [
    {
     "data": {
      "text/plain": [
       "0.00026342312259786544"
      ]
     },
     "execution_count": 40,
     "metadata": {},
     "output_type": "execute_result"
    }
   ],
   "source": [
    "bhattacharyya_dist(c1, overallPDF)"
   ]
  },
  {
   "cell_type": "code",
   "execution_count": null,
   "metadata": {
    "collapsed": false
   },
   "outputs": [],
   "source": []
  },
  {
   "cell_type": "code",
   "execution_count": null,
   "metadata": {
    "collapsed": false
   },
   "outputs": [],
   "source": []
  },
  {
   "cell_type": "code",
   "execution_count": null,
   "metadata": {
    "collapsed": false
   },
   "outputs": [],
   "source": []
  },
  {
   "cell_type": "code",
   "execution_count": null,
   "metadata": {
    "collapsed": false
   },
   "outputs": [],
   "source": []
  },
  {
   "cell_type": "code",
   "execution_count": null,
   "metadata": {
    "collapsed": false
   },
   "outputs": [],
   "source": []
  },
  {
   "cell_type": "code",
   "execution_count": null,
   "metadata": {
    "collapsed": true
   },
   "outputs": [],
   "source": []
  }
 ],
 "metadata": {
  "anaconda-cloud": {},
  "kernelspec": {
   "display_name": "Python [default]",
   "language": "python",
   "name": "python3"
  },
  "language_info": {
   "codemirror_mode": {
    "name": "ipython",
    "version": 3
   },
   "file_extension": ".py",
   "mimetype": "text/x-python",
   "name": "python",
   "nbconvert_exporter": "python",
   "pygments_lexer": "ipython3",
   "version": "3.5.2"
  }
 },
 "nbformat": 4,
 "nbformat_minor": 1
}
